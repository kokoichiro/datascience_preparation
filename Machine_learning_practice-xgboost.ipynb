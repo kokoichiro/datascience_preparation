{
 "cells": [
  {
   "cell_type": "code",
   "execution_count": 1,
   "metadata": {},
   "outputs": [],
   "source": [
    "\n",
    "import pandas as pd\n",
    "import numpy as np\n",
    "from sklearn.tree import DecisionTreeClassifier\n",
    "from sklearn.linear_model import LogisticRegression\n",
    "from sklearn.neighbors import KNeighborsClassifier\n",
    "from sklearn import svm\n",
    "from sklearn.svm import SVC\n",
    "from itertools import product\n",
    "from sklearn.model_selection import train_test_split,GridSearchCV,RandomizedSearchCV,StratifiedKFold\n",
    "from sklearn.decomposition import PCA\n",
    "from sklearn.ensemble import (RandomForestClassifier,RandomForestRegressor,GradientBoostingClassifier,GradientBoostingRegressor,BaggingClassifier,VotingClassifier,AdaBoostClassifier)\n",
    "from sklearn.naive_bayes import GaussianNB\n",
    "from sklearn.svm import SVC\n",
    "from sklearn.neural_network import MLPClassifier\n",
    "from sklearn.externals.six import StringIO\n",
    "#from imblearn.over_sampling import ADASYN, SMOTE, RandomOverSampler\n",
    "#from imblearn.pipeline import make_pipeline\n",
    "from sklearn.preprocessing import MinMaxScaler,LabelEncoder,StandardScaler\n",
    "from sklearn.metrics import (brier_score_loss, precision_score, recall_score,roc_auc_score,\n",
    "                             f1_score,accuracy_score,confusion_matrix,mean_absolute_error,r2_score,mean_squared_error)\n",
    "import datetime\n",
    "\n",
    "import time\n",
    "import os\n",
    "import sys\n",
    "\n",
    "from scipy import misc\n",
    "from scipy.stats import randint\n",
    "\n",
    "\n",
    "from sklearn.manifold import MDS, TSNE\n",
    "from sklearn.decomposition import PCA\n",
    "\n",
    "import xgboost as xgb\n"
   ]
  },
  {
   "cell_type": "code",
   "execution_count": 2,
   "metadata": {},
   "outputs": [],
   "source": [
    "df=pd.read_csv('./santandar/train.csv')"
   ]
  },
  {
   "cell_type": "code",
   "execution_count": 3,
   "metadata": {},
   "outputs": [
    {
     "data": {
      "text/plain": [
       "Index(['ID_code', 'target', 'var_0', 'var_1', 'var_2', 'var_3', 'var_4',\n",
       "       'var_5', 'var_6', 'var_7',\n",
       "       ...\n",
       "       'var_190', 'var_191', 'var_192', 'var_193', 'var_194', 'var_195',\n",
       "       'var_196', 'var_197', 'var_198', 'var_199'],\n",
       "      dtype='object', length=202)"
      ]
     },
     "execution_count": 3,
     "metadata": {},
     "output_type": "execute_result"
    }
   ],
   "source": [
    "df.describe()\n",
    "df.columns"
   ]
  },
  {
   "cell_type": "code",
   "execution_count": 5,
   "metadata": {},
   "outputs": [
    {
     "name": "stderr",
     "output_type": "stream",
     "text": [
      "/home/dev-cory/.local/share/virtualenvs/kaggle-A36EqEnQ/lib/python3.5/site-packages/xgboost/core.py:587: FutureWarning: Series.base is deprecated and will be removed in a future version\n",
      "  if getattr(data, 'base', None) is not None and \\\n",
      "/home/dev-cory/.local/share/virtualenvs/kaggle-A36EqEnQ/lib/python3.5/site-packages/xgboost/core.py:588: FutureWarning: Series.base is deprecated and will be removed in a future version\n",
      "  data.base is not None and isinstance(data, np.ndarray) \\\n"
     ]
    }
   ],
   "source": [
    "train_features1=df[\"target\"]\n",
    "train_labels1=df.drop('ID_code',axis=1)\n",
    "train_labels1=train_labels1.drop('target',axis=1)\n",
    "\n",
    "dtrain = xgb.DMatrix(train_labels1, label=train_features1)"
   ]
  },
  {
   "cell_type": "code",
   "execution_count": 11,
   "metadata": {},
   "outputs": [],
   "source": [
    "param = {'max_depth': 50, 'eta': 1, 'gamma': 2,'min_child_weight': 3,'max_delta_step': 3, 'objective': 'binary:logistic'}\n",
    "param['nthread'] = 4\n",
    "param['eval_metric'] = ['auc','ndcg@n']\n",
    "num_round = 10\n",
    "bst = xgb.train(param, dtrain, num_round)"
   ]
  },
  {
   "cell_type": "code",
   "execution_count": 12,
   "metadata": {},
   "outputs": [],
   "source": [
    "bst.save_model('0001.model')"
   ]
  },
  {
   "cell_type": "code",
   "execution_count": 13,
   "metadata": {},
   "outputs": [],
   "source": [
    "bst = xgb.Booster({'nthread': 4}) \n",
    "bst.load_model('0001.model')\n"
   ]
  },
  {
   "cell_type": "code",
   "execution_count": 14,
   "metadata": {},
   "outputs": [],
   "source": [
    "df_test=pd.read_csv('./santandar/test.csv')\n",
    "df_label_test=df_test.drop('ID_code',axis=1)\n"
   ]
  },
  {
   "cell_type": "code",
   "execution_count": 15,
   "metadata": {},
   "outputs": [],
   "source": [
    "dtest = xgb.DMatrix(df_label_test)\n",
    "ypred = bst.predict(dtest)\n",
    "\n"
   ]
  },
  {
   "cell_type": "code",
   "execution_count": 19,
   "metadata": {},
   "outputs": [],
   "source": [
    "y_pred=pd.DataFrame(ypred)\n",
    "df_answer=pd.concat([df_test[\"ID_code\"],y_pred],axis=1)\n",
    "df_answer.to_csv('./santandar/submission_xgbt.csv',index=False)"
   ]
  },
  {
   "cell_type": "code",
   "execution_count": null,
   "metadata": {},
   "outputs": [],
   "source": [
    "y_train, y_test, X_train, X_test = train_test_split(train_features1, train_labels1,\n",
    "                                                    test_size=0.70, \n",
    "                                                    random_state=0)"
   ]
  },
  {
   "cell_type": "code",
   "execution_count": 4,
   "metadata": {},
   "outputs": [],
   "source": [
    "def get_score(clf, train_features, train_labels):\n",
    "    X_train, X_test, y_train, y_test = train_test_split(train_features, train_labels, test_size=0.4, random_state=0)\n",
    "    clf.fit(X_train, y_train)\n",
    "    print clf.score(X_test, y_test)\n",
    "\n",
    "def get_accuracy(clf, train_features, train_labels):\n",
    "    scores = cross_validation.cross_val_score(clf, train_features, train_labels, cv=10)\n",
    "    print(\"Accuracy: %0.2f (+/- %0.2f)\" % (scores.mean(), scores.std() * 2))\n",
    "\n",
    "def random_searchSVM(train_features, train_labels, n_jobs,objective):\n",
    "    param_dist = {\n",
    "#       {'C': [1, 10, 100], 'kernel': ['linear']},\n",
    "       #'C': [1,10,50,100], 'gamma': [0.0001, 0.001], 'kernel': ['rbf','linear']}\n",
    "        'C': [1], 'gamma': [0.001], 'kernel': ['rbf']}\n",
    "    \n",
    "\n",
    "    clf = GridSearchCV(svm.SVC(class_weight=\"balanced\"), param_dist,n_jobs=n_jobs,scoring=objective)\n",
    "    clf.fit(train_features, train_labels)\n",
    "    return clf.best_estimator_,clf.best_score_,clf.best_params_\n",
    "\n",
    "def random_searchGB(train_features, train_labels, n_jobs,objective):\n",
    "    param_dist = {'n_estimators': randint(5, 300),\n",
    "                   'min_samples_leaf': randint(5, 30),\n",
    "                   'max_depth': randint(5, 10),\n",
    "                   'learning_rate': [0.05,0.001]\n",
    "                  }\n",
    "\n",
    "    clf = RandomizedSearchCV(GradientBoostingClassifier(),param_dist,n_jobs=n_jobs,scoring=objective)\n",
    "    clf.fit(train_features, train_labels)\n",
    "    return clf.best_estimator_,clf.best_score_,clf.best_params_\n",
    "\n",
    "def random_searchRF(train_features, train_labels, n_jobs,objective):\n",
    "    param_dist = {\n",
    "        'n_estimators'      : randint(5, 300),\n",
    "        'max_features'      : randint(3, 20),\n",
    "        'min_samples_split' : randint(3, 100),\n",
    "        'max_depth'         : randint(3, 100)}\n",
    "\n",
    "    clf = RandomizedSearchCV(RandomForestClassifier(class_weight=\"balanced\"), param_dist,n_jobs=n_jobs,scoring=objective)\n",
    "    clf.fit(train_features, train_labels)\n",
    "    return clf.best_estimator_,clf.best_score_,clf.best_params_\n",
    "\n",
    "def random_searchVC(train_features,train_labels,n_jobs,objective):\n",
    "    clf1 = LogisticRegression(random_state=1,class_weight=\"balanced\")\n",
    "    clf2 = RandomForestClassifier(random_state=1,class_weight=\"balanced\")\n",
    "    clf3 = GaussianNB()\n",
    "    eclf = VotingClassifier(estimators=[('lr', clf1), ('rf', clf2), ('gnb', clf3)], voting='soft')\n",
    "    params = {'lr__C': randint(1, 300), 'rf__n_estimators': randint(5, 300),'rf__max_features':randint(3, 20),'rf__min_samples_split' : randint(3, 100),'rf__max_depth':randint(3, 100)}\n",
    "    clf = RandomizedSearchCV(estimator=eclf,param_distributions=params,n_jobs=n_jobs,scoring=objective)\n",
    "    clf.fit(train_features, train_labels)\n",
    "    return clf.best_estimator_,clf.best_score_,clf.best_params_\n",
    "\n",
    "def random_searchAB(train_features,train_labels,n_jobs,objective):\n",
    "    param_dist = {\n",
    "        'algorithm'      : ['SAMME', 'SAMME.R'],\n",
    "        'n_estimators'      : randint(5, 300)}\n",
    "    bdt = AdaBoostClassifier(DecisionTreeClassifier(max_depth=1))\n",
    "    clf = RandomizedSearchCV(estimator=bdt,param_distributions=param_dist,n_jobs=n_jobs,scoring=objective)\n",
    "    clf.fit(train_features, train_labels)\n",
    "    return clf.best_estimator_,clf.best_score_,clf.best_params_ \n",
    "\n",
    "def random_searchNC(train_features,train_labels,n_jobs,objective):\n",
    "    param_dist = {\n",
    "        'activation'      : ['identity', 'logistic', 'tanh', 'relu'],\n",
    "        'hidden_layer_sizes' : [(5,2), (10,5),(10,20,5),(5,10,10,5)],\n",
    "        'alpha' : [1e-5,1e-4,1e-3],\n",
    "        'solver' : ['lbfgs', 'sgd', 'adam']}\n",
    "      \n",
    "    clf = GridSearchCV(estimator= MLPClassifier(),param_grid=param_dist,n_jobs=n_jobs,scoring=objective)\n",
    "    clf.fit(train_features, train_labels)\n",
    "    return clf.best_estimator_,clf.best_score_,clf.best_params_  \n",
    "\n",
    "def best_estimater(train_features,train_labels,test_features,test_labels,objective):\n",
    "    start_time = time.time()\n",
    "    n_jobs = 30\n",
    "\n",
    "    #objective = 'f1' or 'accuracy' or 'recall' or 'roc_auc'\n",
    "    a_RF,b_RF,c_RF=random_searchRF(train_features, train_labels,n_jobs,objective)\n",
    "  \n",
    "    print(\"---RF finished %s seconds ---\" % round(time.time() - start_time,2))\n",
    "    duration_time = time.time()\n",
    "  \n",
    "    a_GB,b_GB,c_GB=random_searchGB(train_features, train_labels,n_jobs,objective)\n",
    "  \n",
    "    print(\"---GB finished %s seconds ---\" % round(time.time() - duration_time,2))\n",
    "    duration_time = time.time()\n",
    "    ''' \n",
    "    a_SVM,b_SVM,c_SVM=random_searchSVM(train_features, train_labels,n_jobs,objective)\n",
    "  \n",
    "    print(\"---SVM finished %s seconds ---\" % round(time.time() - duration_time,2))\n",
    "    duration_time = time.time()\n",
    "  \n",
    "    a_VC,b_VC,c_VC=random_searchVC(train_features, train_labels,n_jobs,objective)\n",
    "  \n",
    "    print(\"---VotingClassification finished %s seconds ---\" % round(time.time() - start_time,2))\n",
    "    duration_time = time.time()\n",
    "    '''  \n",
    "    a_AB,b_AB,c_AB=random_searchAB(train_features, train_labels,n_jobs,objective)\n",
    "  \n",
    "    print(\"---AdaBoost finished %s seconds ---\" % round(time.time() - duration_time,2))\n",
    "    duration_time = time.time()\n",
    "  \n",
    "    a_NC,b_NC,c_NC=random_searchNC(train_features, train_labels,n_jobs,objective)\n",
    "  \n",
    "    print(\"---NeuralNetwork finished %s seconds ---\" % round(time.time() - duration_time,2))\n",
    "    duration_time = time.time()\n",
    "  \n",
    "  \n",
    "  \n",
    "    RF_ML = a_RF\n",
    "    RF_ML.fit(train_features,train_labels)\n",
    "    RF_ML.score(test_features,test_labels)\n",
    "    RF_y_pred = RF_ML.predict(test_features)\n",
    "  \n",
    "  \n",
    "    print(\"---RF fitting finished %s seconds ---\" % round(time.time() - duration_time,2))\n",
    "    duration_time = time.time()\n",
    "  \n",
    "    GB_ML = a_GB\n",
    "    GB_ML.fit(train_features,train_labels)\n",
    "    GB_ML.score(test_features,test_labels)\n",
    "    GB_y_pred = GB_ML.predict(test_features)\n",
    "  \n",
    "  \n",
    "    print(\"---GB fitting finished %s seconds ---\" % round(time.time() - duration_time,2))\n",
    "    duration_time = time.time()\n",
    "    '''   \n",
    "    SVM_ML = a_SVM\n",
    "    SVM_ML.fit(train_features,train_labels)\n",
    "    SVM_ML.score(test_features,test_labels)\n",
    "    SVM_y_pred = SVM_ML.predict(test_features)\n",
    "  \n",
    "  \n",
    "    print(\"---SVM fitting finished %s seconds ---\" % round(time.time() - duration_time,2))\n",
    "    duration_time = time.time()\n",
    "  \n",
    "  \n",
    "    VC_ML = a_VC\n",
    "    VC_ML.fit(train_features,train_labels)\n",
    "    VC_ML.score(test_features,test_labels)\n",
    "    VC_y_pred = VC_ML.predict(test_features)\n",
    "       \n",
    " \n",
    "    print(\"---VotingClassification fitting finished %s seconds ---\" % round(time.time() - duration_time,2))\n",
    "    duration_time = time.time()\n",
    "    '''\n",
    "    AB_ML = a_AB\n",
    "    AB_ML.fit(train_features,train_labels)\n",
    "    AB_ML.score(test_features,test_labels)\n",
    "    AB_y_pred = AB_ML.predict(test_features)\n",
    "  \n",
    "  \n",
    "    print(\"---AdaBoosting fitting finished %s seconds ---\" % round(time.time() - duration_time,2))\n",
    "    duration_time = time.time()\n",
    "  \n",
    "    NC_ML = a_NC\n",
    "    NC_ML.fit(train_features,train_labels)\n",
    "    NC_ML.score(test_features,test_labels)\n",
    "    NC_y_pred = NC_ML.predict(test_features)\n",
    "  \n",
    "  \n",
    "    print(\"---Neural Network fitting finished %s seconds ---\" % round(time.time() - duration_time,2))\n",
    "    duration_time = time.time()\n",
    "  \n",
    "    if objective == \"f1\":\n",
    "        RF_score=f1_score(test_labels, RF_y_pred)\n",
    "        GB_score=f1_score(test_labels, GB_y_pred)\n",
    "        ''' \n",
    "        SVM_score=f1_score(test_labels, SVM_y_pred)\n",
    "        VC_score=f1_score(test_labels, VC_y_pred)\n",
    "        '''\n",
    "        NC_score=f1_score(test_labels, NC_y_pred)\n",
    "        AB_score=f1_score(test_labels, AB_y_pred)\n",
    "    elif objective == \"recall\":\n",
    "        RF_score=recall_score(test_labels, RF_y_pred)\n",
    "        GB_score=recall_score(test_labels, GB_y_pred)\n",
    "        ''' \n",
    "        SVM_score=recall_score(test_labels, SVM_y_pred)\n",
    "        VC_score=recall_score(test_labels, VC_y_pred)\n",
    "        ''' \n",
    "        NC_score=recall_score(test_labels, NC_y_pred)\n",
    "        AB_score=recall_score(test_labels, AB_y_pred)\n",
    "    elif objective == \"accuracy\":\n",
    "        RF_score=accuracy_score(test_labels, RF_y_pred)\n",
    "        GB_score=accuracy_score(test_labels, GB_y_pred)\n",
    "        ''' \n",
    "        SVM_score=accuracy_score(test_labels, SVM_y_pred)\n",
    "        VC_score=accuracy_score(test_labels, VC_y_pred)\n",
    "        ''' \n",
    "        NC_score=accuracy_score(test_labels, NC_y_pred)\n",
    "        AB_score=accuracy_score(test_labels, AB_y_pred)\n",
    "    elif objective == \"roc_auc\":\n",
    "        RF_score=roc_auc_score(test_labels, RF_y_pred)\n",
    "        GB_score=roc_auc_score(test_labels, GB_y_pred)\n",
    "        ''' \n",
    "        SVM_score=roc_auc_score(test_labels, SVM_y_pred)\n",
    "        VC_score=roc_auc_score(test_labels, VC_y_pred)\n",
    "        ''' \n",
    "        NC_score=roc_auc_score(test_labels, NC_y_pred)\n",
    "        AB_score=roc_auc_score(test_labels, AB_y_pred)\n",
    "    #print('RF:'+str(RF_score)+', GB:'+str(GB_score)+', SVM:'+str(SVM_score)+', VC:'+str(VC_score)+', AB:'+str(AB_score)+', NC:'+str(NC_score))\n",
    "    print('RF:'+str(RF_score)+', GB:'+str(GB_score)+', AB:'+str(AB_score)+', NC:'+str(NC_score))\n",
    "    #score_list = [RF_score,GB_score,SVM_score,VC_score,NC_score,AB_score]\n",
    "    score_list = [RF_score,GB_score,NC_score,AB_score]\n",
    "    if RF_score ==max(score_list):\n",
    "        return a_RF,b_RF,c_RF\n",
    "    elif GB_score ==max(score_list):\n",
    "        return a_GB,b_GB,c_GB\n",
    "        '''\n",
    "    elif SVM_score ==max(score_list):\n",
    "        return a_SVM,b_SVM,c_SVM\n",
    "    elif VC_score ==max(score_list):\n",
    "        return a_VC,b_VC,c_VC\n",
    "        '''\n",
    "    elif NC_score ==max(score_list):\n",
    "        return a_NC,b_NC,c_NC\n",
    "    elif AB_score ==max(score_list):\n",
    "        return a_AB,b_AB,c_AB\n",
    "    else:\n",
    "        print('The error happens')\n",
    "\n",
    "\n",
    "        \n",
    "        "
   ]
  },
  {
   "cell_type": "code",
   "execution_count": 16,
   "metadata": {},
   "outputs": [
    {
     "ename": "ImportError",
     "evalue": "You must install matplotlib to plot importance",
     "output_type": "error",
     "traceback": [
      "\u001b[0;31m---------------------------------------------------------------------------\u001b[0m",
      "\u001b[0;31mImportError\u001b[0m                               Traceback (most recent call last)",
      "\u001b[0;32m~/.local/share/virtualenvs/kaggle-A36EqEnQ/lib/python3.5/site-packages/xgboost/plotting.py\u001b[0m in \u001b[0;36mplot_importance\u001b[0;34m(booster, ax, height, xlim, ylim, title, xlabel, ylabel, importance_type, max_num_features, grid, show_values, **kwargs)\u001b[0m\n\u001b[1;32m     59\u001b[0m     \u001b[0;32mtry\u001b[0m\u001b[0;34m:\u001b[0m\u001b[0;34m\u001b[0m\u001b[0m\n\u001b[0;32m---> 60\u001b[0;31m         \u001b[0;32mimport\u001b[0m \u001b[0mmatplotlib\u001b[0m\u001b[0;34m.\u001b[0m\u001b[0mpyplot\u001b[0m \u001b[0;32mas\u001b[0m \u001b[0mplt\u001b[0m\u001b[0;34m\u001b[0m\u001b[0m\n\u001b[0m\u001b[1;32m     61\u001b[0m     \u001b[0;32mexcept\u001b[0m \u001b[0mImportError\u001b[0m\u001b[0;34m:\u001b[0m\u001b[0;34m\u001b[0m\u001b[0m\n",
      "\u001b[0;31mImportError\u001b[0m: No module named 'matplotlib'",
      "\nDuring handling of the above exception, another exception occurred:\n",
      "\u001b[0;31mImportError\u001b[0m                               Traceback (most recent call last)",
      "\u001b[0;32m<ipython-input-16-a1bcd84671d8>\u001b[0m in \u001b[0;36m<module>\u001b[0;34m\u001b[0m\n\u001b[0;32m----> 1\u001b[0;31m \u001b[0mxgb\u001b[0m\u001b[0;34m.\u001b[0m\u001b[0mplot_importance\u001b[0m\u001b[0;34m(\u001b[0m\u001b[0mbst\u001b[0m\u001b[0;34m)\u001b[0m\u001b[0;34m\u001b[0m\u001b[0m\n\u001b[0m",
      "\u001b[0;32m~/.local/share/virtualenvs/kaggle-A36EqEnQ/lib/python3.5/site-packages/xgboost/plotting.py\u001b[0m in \u001b[0;36mplot_importance\u001b[0;34m(booster, ax, height, xlim, ylim, title, xlabel, ylabel, importance_type, max_num_features, grid, show_values, **kwargs)\u001b[0m\n\u001b[1;32m     60\u001b[0m         \u001b[0;32mimport\u001b[0m \u001b[0mmatplotlib\u001b[0m\u001b[0;34m.\u001b[0m\u001b[0mpyplot\u001b[0m \u001b[0;32mas\u001b[0m \u001b[0mplt\u001b[0m\u001b[0;34m\u001b[0m\u001b[0m\n\u001b[1;32m     61\u001b[0m     \u001b[0;32mexcept\u001b[0m \u001b[0mImportError\u001b[0m\u001b[0;34m:\u001b[0m\u001b[0;34m\u001b[0m\u001b[0m\n\u001b[0;32m---> 62\u001b[0;31m         \u001b[0;32mraise\u001b[0m \u001b[0mImportError\u001b[0m\u001b[0;34m(\u001b[0m\u001b[0;34m'You must install matplotlib to plot importance'\u001b[0m\u001b[0;34m)\u001b[0m\u001b[0;34m\u001b[0m\u001b[0m\n\u001b[0m\u001b[1;32m     63\u001b[0m \u001b[0;34m\u001b[0m\u001b[0m\n\u001b[1;32m     64\u001b[0m     \u001b[0;32mif\u001b[0m \u001b[0misinstance\u001b[0m\u001b[0;34m(\u001b[0m\u001b[0mbooster\u001b[0m\u001b[0;34m,\u001b[0m \u001b[0mXGBModel\u001b[0m\u001b[0;34m)\u001b[0m\u001b[0;34m:\u001b[0m\u001b[0;34m\u001b[0m\u001b[0m\n",
      "\u001b[0;31mImportError\u001b[0m: You must install matplotlib to plot importance"
     ]
    }
   ],
   "source": [
    "#xgb.plot_importance(bst)"
   ]
  },
  {
   "cell_type": "code",
   "execution_count": null,
   "metadata": {},
   "outputs": [],
   "source": [
    "y_train, y_test, X_train, X_test = train_test_split(train_features1, train_labels1,\n",
    "                                                    test_size=0.70, \n",
    "                                                    random_state=0)"
   ]
  },
  {
   "cell_type": "code",
   "execution_count": null,
   "metadata": {},
   "outputs": [
    {
     "name": "stdout",
     "output_type": "stream",
     "text": [
      "---RF finished 1233.29 seconds ---\n"
     ]
    }
   ],
   "source": [
    "a,b,c=best_estimater(X_train, y_train,X_test,y_test,'roc_auc')"
   ]
  },
  {
   "cell_type": "code",
   "execution_count": null,
   "metadata": {},
   "outputs": [],
   "source": [
    "a_txt = str(a)\n",
    "print(a_txt)\n",
    "print(b)\n",
    "print(c)"
   ]
  },
  {
   "cell_type": "code",
   "execution_count": 17,
   "metadata": {},
   "outputs": [],
   "source": [
    "import pickle\n",
    "# write\n",
    "with open('./best_ml.p', 'wb') as f:\n",
    "    pickle.dump(a, f)\n",
    "\n",
    "with open('./best_ml_text.p', 'wb') as f:\n",
    "    pickle.dump(a_txt, f)    "
   ]
  },
  {
   "cell_type": "code",
   "execution_count": null,
   "metadata": {},
   "outputs": [
    {
     "name": "stdout",
     "output_type": "stream",
     "text": [
      "accuracy=0.91556\n",
      "f1=0.4616169344554961\n",
      "precision=0.645621544497949\n",
      "recall=0.3592338989778704\n"
     ]
    },
    {
     "data": {
      "text/plain": [
       "array([[87936,  1987],\n",
       "       [ 6457,  3620]])"
      ]
     },
     "execution_count": 18,
     "metadata": {},
     "output_type": "execute_result"
    }
   ],
   "source": [
    "ML = a\n",
    "test_s2 = 0.5\n",
    "y_train, y_test, X_train, X_test = train_test_split(train_features1, train_labels1,\n",
    "                                                    test_size=test_s2,       \n",
    "                                                    random_state=0)\n",
    "\n",
    "ML.fit(X_train, y_train)\n",
    "ML.score(X_test,y_test)\n",
    "y_pred = ML.predict(X_test)\n",
    "print(\"accuracy=\"+str(accuracy_score(y_test, y_pred)))\n",
    "#print(average_precision_score(y_test,predict_y,average='weighted'))\n",
    "print(\"f1=\"+str(f1_score(y_test, y_pred)))\n",
    "print(\"precision=\"+str(precision_score(y_test, y_pred)))\n",
    "print(\"recall=\"+str(recall_score(y_test, y_pred)))\n",
    "#Vertucal:actual/ Horizontal:prediction\n",
    "confusion_matrix(y_test,y_pred)"
   ]
  },
  {
   "cell_type": "code",
   "execution_count": null,
   "metadata": {},
   "outputs": [],
   "source": [
    "with open('./best_ml.p', mode='rb') as f:\n",
    "    ML2=pickle.load(f)\n",
    "    \n",
    "\n",
    "\n",
    "\n",
    "'''ML2=VotingClassifier(estimators=[('lr', LogisticRegression(C=199, class_weight='balanced', dual=False,\n",
    "          fit_intercept=True, intercept_scaling=1, max_iter=100,\n",
    "          multi_class='ovr', n_jobs=1, penalty='l2', random_state=1,\n",
    "          solver='liblinear', tol=0.0001, verbose=0, warm_start=False)), ('rf', Rand...=False, random_state=1,\n",
    "            verbose=0, warm_start=False)), ('gnb', GaussianNB(priors=None))],\n",
    "         flatten_transform=None, n_jobs=1, voting='soft', weights=None)'''\n",
    "ML2.fit(train_labels1,train_features1)\n",
    "\n",
    "df_test=pd.read_csv('./santandar/test.csv')\n",
    "df_label_test=df_test.drop('ID_code',axis=1)\n",
    "y_pred=ML2.predict(df_label_test)\n",
    "df_answer=pd.concat([df_test[\"ID_code\"],y_pred],axis=1)\n",
    "df_answer.to_csv('./santandar/submission.csv',index=False)"
   ]
  },
  {
   "cell_type": "code",
   "execution_count": null,
   "metadata": {},
   "outputs": [],
   "source": []
  }
 ],
 "metadata": {
  "kernelspec": {
   "display_name": "Python 3",
   "language": "python",
   "name": "python3"
  },
  "language_info": {
   "codemirror_mode": {
    "name": "ipython",
    "version": 3
   },
   "file_extension": ".py",
   "mimetype": "text/x-python",
   "name": "python",
   "nbconvert_exporter": "python",
   "pygments_lexer": "ipython3",
   "version": "3.5.3"
  }
 },
 "nbformat": 4,
 "nbformat_minor": 2
}
