{
 "cells": [
  {
   "cell_type": "code",
   "execution_count": 1,
   "metadata": {},
   "outputs": [],
   "source": [
    "\n",
    "import pandas as pd\n",
    "import numpy as np\n",
    "from sklearn.tree import DecisionTreeClassifier\n",
    "from sklearn.linear_model import LogisticRegression\n",
    "from sklearn.neighbors import KNeighborsClassifier\n",
    "from sklearn import svm\n",
    "from sklearn.svm import SVC\n",
    "from itertools import product\n",
    "from sklearn.model_selection import train_test_split,GridSearchCV,RandomizedSearchCV,StratifiedKFold\n",
    "from sklearn.decomposition import PCA\n",
    "from sklearn.ensemble import (RandomForestClassifier,RandomForestRegressor,GradientBoostingClassifier,GradientBoostingRegressor,BaggingClassifier,VotingClassifier,AdaBoostClassifier)\n",
    "from sklearn.naive_bayes import GaussianNB\n",
    "from sklearn.svm import SVC\n",
    "from sklearn.neural_network import MLPClassifier\n",
    "from sklearn.externals.six import StringIO\n",
    "#from imblearn.over_sampling import ADASYN, SMOTE, RandomOverSampler\n",
    "#from imblearn.pipeline import make_pipeline\n",
    "from sklearn.preprocessing import MinMaxScaler,LabelEncoder,StandardScaler\n",
    "from sklearn.metrics import (brier_score_loss, precision_score, recall_score,roc_auc_score,\n",
    "                             f1_score,accuracy_score,confusion_matrix,mean_absolute_error,r2_score,mean_squared_error)\n",
    "import datetime\n",
    "\n",
    "import time\n",
    "import os\n",
    "import sys\n",
    "\n",
    "from scipy import misc\n",
    "from scipy.stats import randint\n"
   ]
  },
  {
   "cell_type": "code",
   "execution_count": 2,
   "metadata": {},
   "outputs": [],
   "source": [
    "df=pd.read_csv('./data/train.csv')"
   ]
  },
  {
   "cell_type": "code",
   "execution_count": 6,
   "metadata": {},
   "outputs": [
    {
     "name": "stdout",
     "output_type": "stream",
     "text": [
      "   PassengerId  Survived  Pclass  \\\n",
      "0            1         0       3   \n",
      "1            2         1       1   \n",
      "2            3         1       3   \n",
      "3            4         1       1   \n",
      "4            5         0       3   \n",
      "\n",
      "                                                Name     Sex   Age  SibSp  \\\n",
      "0                            Braund, Mr. Owen Harris    male  22.0      1   \n",
      "1  Cumings, Mrs. John Bradley (Florence Briggs Th...  female  38.0      1   \n",
      "2                             Heikkinen, Miss. Laina  female  26.0      0   \n",
      "3       Futrelle, Mrs. Jacques Heath (Lily May Peel)  female  35.0      1   \n",
      "4                           Allen, Mr. William Henry    male  35.0      0   \n",
      "\n",
      "   Parch            Ticket     Fare Cabin Embarked  \n",
      "0      0         A/5 21171   7.2500   NaN        S  \n",
      "1      0          PC 17599  71.2833   C85        C  \n",
      "2      0  STON/O2. 3101282   7.9250   NaN        S  \n",
      "3      0            113803  53.1000  C123        S  \n",
      "4      0            373450   8.0500   NaN        S  \n",
      "Index(['PassengerId', 'Survived', 'Pclass', 'Name', 'Sex', 'Age', 'SibSp',\n",
      "       'Parch', 'Ticket', 'Fare', 'Cabin', 'Embarked'],\n",
      "      dtype='object')\n",
      "(891, 12)\n"
     ]
    }
   ],
   "source": [
    "df.describe()\n",
    "print(df.head())\n",
    "print(\"----------------------------columns----------------------------\")\n",
    "print(df.columns)\n",
    "print(\"----------------------------shape----------------------------\")\n",
    "print(df.shape)"
   ]
  },
  {
   "cell_type": "code",
   "execution_count": 11,
   "metadata": {},
   "outputs": [],
   "source": [
    "def get_score(clf, train_features, train_labels):\n",
    "    X_train, X_test, y_train, y_test = train_test_split(train_features, train_labels, test_size=0.4, random_state=0)\n",
    "    clf.fit(X_train, y_train)\n",
    "    print(clf.score(X_test, y_test))\n",
    "\n",
    "def get_accuracy(clf, train_features, train_labels):\n",
    "    scores = cross_validation.cross_val_score(clf, train_features, train_labels, cv=10)\n",
    "    print(\"Accuracy: %0.2f (+/- %0.2f)\" % (scores.mean(), scores.std() * 2))\n",
    "\n",
    "def random_searchSVM(train_features, train_labels, n_jobs,objective):\n",
    "    param_dist = {\n",
    "#       {'C': [1, 10, 100], 'kernel': ['linear']},\n",
    "       #'C': [1,10,50,100], 'gamma': [0.0001, 0.001], 'kernel': ['rbf','linear']}\n",
    "        'C': [1], 'gamma': [0.001], 'kernel': ['rbf']}\n",
    "\n",
    "    clf = GridSearchCV(svm.SVC(class_weight=\"balanced\"), param_dist,n_jobs=n_jobs,scoring=objective)\n",
    "    clf.fit(train_features, train_labels)\n",
    "    return clf.best_estimator_,clf.best_score_,clf.best_params_\n",
    "\n",
    "def random_searchGB(train_features, train_labels, n_jobs,objective):\n",
    "    param_dist = {#'n_estimators': randint(5, 300),\n",
    "                   #'min_samples_leaf': randint(5, 30),\n",
    "                   #'max_depth': randint(5, 10),\n",
    "                   'learning_rate': [0.05,0.001]\n",
    "                  }\n",
    "\n",
    "    clf = RandomizedSearchCV(GradientBoostingClassifier(),param_dist,n_jobs=n_jobs,scoring=objective)\n",
    "    clf.fit(train_features, train_labels)\n",
    "    return clf.best_estimator_,clf.best_score_,clf.best_params_\n",
    "\n",
    "def random_searchRF(train_features, train_labels, n_jobs,objective):\n",
    "    param_dist = {\n",
    "        #'n_estimators'      : randint(5, 300),\n",
    "        #'max_features'      : randint(3, 20),\n",
    "        #'min_samples_split' : randint(3, 100),\n",
    "        'max_depth'         : randint(3, 100)}\n",
    "\n",
    "    clf = RandomizedSearchCV(RandomForestClassifier(class_weight=\"balanced\"), param_dist,n_jobs=n_jobs,scoring=objective)\n",
    "    clf.fit(train_features, train_labels)\n",
    "    return clf.best_estimator_,clf.best_score_,clf.best_params_\n",
    "\n",
    "def random_searchVC(train_features,train_labels,n_jobs,objective):\n",
    "    clf1 = LogisticRegression(random_state=1,class_weight=\"balanced\")\n",
    "    clf2 = RandomForestClassifier(random_state=1,class_weight=\"balanced\")\n",
    "    clf3 = GaussianNB()\n",
    "    eclf = VotingClassifier(estimators=[('lr', clf1), ('rf', clf2), ('gnb', clf3)], voting='soft')\n",
    "    params = {'lr__C': randint(1, 300), 'rf__n_estimators': randint(5, 300),'rf__max_features':randint(3, 20),'rf__min_samples_split' : randint(3, 100),'rf__max_depth':randint(3, 100)}\n",
    "    clf = RandomizedSearchCV(estimator=eclf,param_distributions=params,n_jobs=n_jobs,scoring=objective)\n",
    "    clf.fit(train_features, train_labels)\n",
    "    return clf.best_estimator_,clf.best_score_,clf.best_params_\n",
    "\n",
    "def random_searchAB(train_features,train_labels,n_jobs,objective):\n",
    "    param_dist = {\n",
    "        'algorithm'      : ['SAMME', 'SAMME.R'],\n",
    "        #'n_estimators'      : randint(5, 300)\n",
    "        }\n",
    "    bdt = AdaBoostClassifier(DecisionTreeClassifier(max_depth=1))\n",
    "    clf = RandomizedSearchCV(estimator=bdt,param_distributions=param_dist,n_jobs=n_jobs,scoring=objective)\n",
    "    clf.fit(train_features, train_labels)\n",
    "    return clf.best_estimator_,clf.best_score_,clf.best_params_ \n",
    "\n",
    "def random_searchNC(train_features,train_labels,n_jobs,objective):\n",
    "    param_dist = {\n",
    "        #'activation'      : ['identity', 'logistic', 'tanh', 'relu'],\n",
    "        #'hidden_layer_sizes' : [(5,2), (10,5),(10,20,5),(5,10,10,5)],\n",
    "        'alpha' : [1e-5,1e-4,1e-3],\n",
    "        'solver' : ['adam']}\n",
    "        #'solver' : ['lbfgs', 'sgd', 'adam']}\n",
    "      \n",
    "    clf = GridSearchCV(estimator= MLPClassifier(),param_grid=param_dist,n_jobs=n_jobs,scoring=objective)\n",
    "    clf.fit(train_features, train_labels)\n",
    "    return clf.best_estimator_,clf.best_score_,clf.best_params_  \n",
    "\n",
    "def best_estimater(train_features,train_labels,test_features,test_labels,objective):\n",
    "    start_time = time.time()\n",
    "    n_jobs = 30\n",
    "\n",
    "    #objective = 'f1' or 'accuracy' or 'recall' or 'roc_auc'\n",
    "    a_RF,b_RF,c_RF=random_searchRF(train_features, train_labels,n_jobs,objective)\n",
    "  \n",
    "    print(\"---RF finished %s seconds ---\" % round(time.time() - start_time,2))\n",
    "    duration_time = time.time()\n",
    "  \n",
    "    a_GB,b_GB,c_GB=random_searchGB(train_features, train_labels,n_jobs,objective)\n",
    "  \n",
    "    print(\"---GB finished %s seconds ---\" % round(time.time() - duration_time,2))\n",
    "    duration_time = time.time()\n",
    "  \n",
    "    a_SVM,b_SVM,c_SVM=random_searchSVM(train_features, train_labels,n_jobs,objective)\n",
    "  \n",
    "    print(\"---SVM finished %s seconds ---\" % round(time.time() - duration_time,2))\n",
    "    duration_time = time.time()\n",
    "  \n",
    "    a_VC,b_VC,c_VC=random_searchVC(train_features, train_labels,n_jobs,objective)\n",
    "  \n",
    "    print(\"---VotingClassification finished %s seconds ---\" % round(time.time() - start_time,2))\n",
    "    duration_time = time.time()\n",
    "  \n",
    "    a_AB,b_AB,c_AB=random_searchAB(train_features, train_labels,n_jobs,objective)\n",
    "  \n",
    "    print(\"---AdaBoost finished %s seconds ---\" % round(time.time() - duration_time,2))\n",
    "    duration_time = time.time()\n",
    "  \n",
    "    a_NC,b_NC,c_NC=random_searchNC(train_features, train_labels,n_jobs,objective)\n",
    "  \n",
    "    print(\"---NeuralNetwork finished %s seconds ---\" % round(time.time() - duration_time,2))\n",
    "    duration_time = time.time()\n",
    "  \n",
    "  \n",
    "  \n",
    "    RF_ML = a_RF\n",
    "    RF_ML.fit(train_features,train_labels)\n",
    "    RF_ML.score(test_features,test_labels)\n",
    "    RF_y_pred = RF_ML.predict(test_features)\n",
    "  \n",
    "  \n",
    "    print(\"---RF fitting finished %s seconds ---\" % round(time.time() - duration_time,2))\n",
    "    duration_time = time.time()\n",
    "  \n",
    "    GB_ML = a_GB\n",
    "    GB_ML.fit(train_features,train_labels)\n",
    "    GB_ML.score(test_features,test_labels)\n",
    "    GB_y_pred = GB_ML.predict(test_features)\n",
    "  \n",
    "  \n",
    "    print(\"---GB fitting finished %s seconds ---\" % round(time.time() - duration_time,2))\n",
    "    duration_time = time.time()\n",
    "  \n",
    "    SVM_ML = a_SVM\n",
    "    SVM_ML.fit(train_features,train_labels)\n",
    "    SVM_ML.score(test_features,test_labels)\n",
    "    SVM_y_pred = SVM_ML.predict(test_features)\n",
    "  \n",
    "  \n",
    "    print(\"---SVM fitting finished %s seconds ---\" % round(time.time() - duration_time,2))\n",
    "    duration_time = time.time()\n",
    "  \n",
    "  \n",
    "    VC_ML = a_VC\n",
    "    VC_ML.fit(train_features,train_labels)\n",
    "    VC_ML.score(test_features,test_labels)\n",
    "    VC_y_pred = VC_ML.predict(test_features)\n",
    "  \n",
    "  \n",
    "    print(\"---VotingClassification fitting finished %s seconds ---\" % round(time.time() - duration_time,2))\n",
    "    duration_time = time.time()\n",
    "  \n",
    "    AB_ML = a_AB\n",
    "    AB_ML.fit(train_features,train_labels)\n",
    "    AB_ML.score(test_features,test_labels)\n",
    "    AB_y_pred = AB_ML.predict(test_features)\n",
    "  \n",
    "  \n",
    "    print(\"---AdaBoosting fitting finished %s seconds ---\" % round(time.time() - duration_time,2))\n",
    "    duration_time = time.time()\n",
    "  \n",
    "    NC_ML = a_NC\n",
    "    NC_ML.fit(train_features,train_labels)\n",
    "    NC_ML.score(test_features,test_labels)\n",
    "    NC_y_pred = NC_ML.predict(test_features)\n",
    "  \n",
    "  \n",
    "    print(\"---Neural Network fitting finished %s seconds ---\" % round(time.time() - duration_time,2))\n",
    "    duration_time = time.time()\n",
    "  \n",
    "    if objective == \"f1\":\n",
    "        RF_score=f1_score(test_labels, RF_y_pred)\n",
    "        GB_score=f1_score(test_labels, GB_y_pred)\n",
    "        SVM_score=f1_score(test_labels, SVM_y_pred)\n",
    "        VC_score=f1_score(test_labels, VC_y_pred)\n",
    "        NC_score=f1_score(test_labels, NC_y_pred)\n",
    "        AB_score=f1_score(test_labels, AB_y_pred)\n",
    "    elif objective == \"recall\":\n",
    "        RF_score=recall_score(test_labels, RF_y_pred)\n",
    "        GB_score=recall_score(test_labels, GB_y_pred)\n",
    "        SVM_score=recall_score(test_labels, SVM_y_pred)\n",
    "        VC_score=recall_score(test_labels, VC_y_pred)\n",
    "        NC_score=recall_score(test_labels, NC_y_pred)\n",
    "        AB_score=recall_score(test_labels, AB_y_pred)\n",
    "    elif objective == \"accuracy\":\n",
    "        RF_score=accuracy_score(test_labels, RF_y_pred)\n",
    "        GB_score=accuracy_score(test_labels, GB_y_pred)\n",
    "        SVM_score=accuracy_score(test_labels, SVM_y_pred)\n",
    "        VC_score=accuracy_score(test_labels, VC_y_pred)\n",
    "        NC_score=accuracy_score(test_labels, NC_y_pred)\n",
    "        AB_score=accuracy_score(test_labels, AB_y_pred)\n",
    "    elif objective == \"roc_auc\":\n",
    "        RF_score=roc_auc_score(test_labels, RF_y_pred)\n",
    "        GB_score=roc_auc_score(test_labels, GB_y_pred)\n",
    "        SVM_score=roc_auc_score(test_labels, SVM_y_pred)\n",
    "        VC_score=roc_auc_score(test_labels, VC_y_pred)\n",
    "        NC_score=roc_auc_score(test_labels, NC_y_pred)\n",
    "        AB_score=roc_auc_score(test_labels, AB_y_pred)\n",
    "    print ('RF:'+str(RF_score)+', GB:'+str(GB_score)+', SVM:'+str(SVM_score)+', VC:'+str(VC_score)+', AB:'+str(AB_score)+', NC:'+str(NC_score))\n",
    "    score_list = [RF_score,GB_score,SVM_score,VC_score,NC_score,AB_score]\n",
    "    if RF_score ==max(score_list):\n",
    "        return a_RF,b_RF,c_RF\n",
    "    elif GB_score ==max(score_list):\n",
    "        return a_GB,b_GB,c_GB\n",
    "    elif SVM_score ==max(score_list):\n",
    "        return a_SVM,b_SVM,c_SVM\n",
    "    elif VC_score ==max(score_list):\n",
    "        return a_VC,b_VC,c_VC\n",
    "    elif NC_score ==max(score_list):\n",
    "        return a_NC,b_NC,c_NC\n",
    "    elif AB_score ==max(score_list):\n",
    "        return a_AB,b_AB,c_AB\n",
    "    else:\n",
    "        print('The error happens')\n",
    "\n",
    "\n",
    "        "
   ]
  },
  {
   "cell_type": "code",
   "execution_count": 12,
   "metadata": {},
   "outputs": [],
   "source": [
    "train_features1=df[\"target\"]\n",
    "train_labels1=df.drop('ID_code',axis=1)\n",
    "train_labels1=train_labels1.drop('target',axis=1)"
   ]
  },
  {
   "cell_type": "code",
   "execution_count": 13,
   "metadata": {},
   "outputs": [],
   "source": [
    "y_train, y_test, X_train, X_test = train_test_split(train_features1, train_labels1,\n",
    "                                                    test_size=0.96, \n",
    "                                                    random_state=0)"
   ]
  },
  {
   "cell_type": "code",
   "execution_count": 14,
   "metadata": {},
   "outputs": [
    {
     "name": "stderr",
     "output_type": "stream",
     "text": [
      "/home/dev-cory/.local/share/virtualenvs/kaggle-A36EqEnQ/lib/python3.5/site-packages/sklearn/model_selection/_split.py:2053: FutureWarning: You should specify a value for 'cv' instead of relying on the default value. The default value will change from 3 to 5 in version 0.22.\n",
      "  warnings.warn(CV_WARNING, FutureWarning)\n",
      "/home/dev-cory/.local/share/virtualenvs/kaggle-A36EqEnQ/lib/python3.5/site-packages/sklearn/ensemble/forest.py:246: FutureWarning: The default value of n_estimators will change from 10 in version 0.20 to 100 in 0.22.\n",
      "  \"10 in version 0.20 to 100 in 0.22.\", FutureWarning)\n"
     ]
    },
    {
     "name": "stdout",
     "output_type": "stream",
     "text": [
      "---RF finished 23.84 seconds ---\n"
     ]
    },
    {
     "name": "stderr",
     "output_type": "stream",
     "text": [
      "/home/dev-cory/.local/share/virtualenvs/kaggle-A36EqEnQ/lib/python3.5/site-packages/sklearn/model_selection/_split.py:2053: FutureWarning: You should specify a value for 'cv' instead of relying on the default value. The default value will change from 3 to 5 in version 0.22.\n",
      "  warnings.warn(CV_WARNING, FutureWarning)\n",
      "/home/dev-cory/.local/share/virtualenvs/kaggle-A36EqEnQ/lib/python3.5/site-packages/sklearn/model_selection/_search.py:271: UserWarning: The total space of parameters 2 is smaller than n_iter=10. Running 2 iterations. For exhaustive searches, use GridSearchCV.\n",
      "  % (grid_size, self.n_iter, grid_size), UserWarning)\n"
     ]
    },
    {
     "name": "stdout",
     "output_type": "stream",
     "text": [
      "---GB finished 40.1 seconds ---\n"
     ]
    },
    {
     "name": "stderr",
     "output_type": "stream",
     "text": [
      "/home/dev-cory/.local/share/virtualenvs/kaggle-A36EqEnQ/lib/python3.5/site-packages/sklearn/model_selection/_split.py:2053: FutureWarning: You should specify a value for 'cv' instead of relying on the default value. The default value will change from 3 to 5 in version 0.22.\n",
      "  warnings.warn(CV_WARNING, FutureWarning)\n"
     ]
    },
    {
     "name": "stdout",
     "output_type": "stream",
     "text": [
      "---SVM finished 77.23 seconds ---\n"
     ]
    },
    {
     "name": "stderr",
     "output_type": "stream",
     "text": [
      "/home/dev-cory/.local/share/virtualenvs/kaggle-A36EqEnQ/lib/python3.5/site-packages/sklearn/model_selection/_split.py:2053: FutureWarning: You should specify a value for 'cv' instead of relying on the default value. The default value will change from 3 to 5 in version 0.22.\n",
      "  warnings.warn(CV_WARNING, FutureWarning)\n",
      "/home/dev-cory/.local/share/virtualenvs/kaggle-A36EqEnQ/lib/python3.5/site-packages/sklearn/linear_model/logistic.py:433: FutureWarning: Default solver will be changed to 'lbfgs' in 0.22. Specify a solver to silence this warning.\n",
      "  FutureWarning)\n"
     ]
    },
    {
     "name": "stdout",
     "output_type": "stream",
     "text": [
      "---VotingClassification finished 942.78 seconds ---\n"
     ]
    },
    {
     "name": "stderr",
     "output_type": "stream",
     "text": [
      "/home/dev-cory/.local/share/virtualenvs/kaggle-A36EqEnQ/lib/python3.5/site-packages/sklearn/model_selection/_split.py:2053: FutureWarning: You should specify a value for 'cv' instead of relying on the default value. The default value will change from 3 to 5 in version 0.22.\n",
      "  warnings.warn(CV_WARNING, FutureWarning)\n",
      "/home/dev-cory/.local/share/virtualenvs/kaggle-A36EqEnQ/lib/python3.5/site-packages/sklearn/model_selection/_search.py:271: UserWarning: The total space of parameters 2 is smaller than n_iter=10. Running 2 iterations. For exhaustive searches, use GridSearchCV.\n",
      "  % (grid_size, self.n_iter, grid_size), UserWarning)\n"
     ]
    },
    {
     "name": "stdout",
     "output_type": "stream",
     "text": [
      "---AdaBoost finished 29.22 seconds ---\n"
     ]
    },
    {
     "name": "stderr",
     "output_type": "stream",
     "text": [
      "/home/dev-cory/.local/share/virtualenvs/kaggle-A36EqEnQ/lib/python3.5/site-packages/sklearn/model_selection/_split.py:2053: FutureWarning: You should specify a value for 'cv' instead of relying on the default value. The default value will change from 3 to 5 in version 0.22.\n",
      "  warnings.warn(CV_WARNING, FutureWarning)\n"
     ]
    },
    {
     "name": "stdout",
     "output_type": "stream",
     "text": [
      "---NeuralNetwork finished 104.87 seconds ---\n",
      "---RF fitting finished 2.49 seconds ---\n",
      "---GB fitting finished 16.92 seconds ---\n",
      "---SVM fitting finished 1843.96 seconds ---\n"
     ]
    },
    {
     "name": "stderr",
     "output_type": "stream",
     "text": [
      "/home/dev-cory/.local/share/virtualenvs/kaggle-A36EqEnQ/lib/python3.5/site-packages/sklearn/linear_model/logistic.py:433: FutureWarning: Default solver will be changed to 'lbfgs' in 0.22. Specify a solver to silence this warning.\n",
      "  FutureWarning)\n"
     ]
    },
    {
     "name": "stdout",
     "output_type": "stream",
     "text": [
      "---VotingClassification fitting finished 216.92 seconds ---\n",
      "---AdaBoosting fitting finished 28.4 seconds ---\n",
      "---Neural Network fitting finished 73.97 seconds ---\n",
      "RF:0.5005329920683316, GB:0.5048347847543178, SVM:0.5, VC:0.7059407382218079, AB:0.5758495091627337, NC:0.5882560675994071\n"
     ]
    }
   ],
   "source": [
    "a,b,c=best_estimater(X_train, y_train,X_test,y_test,'roc_auc')"
   ]
  },
  {
   "cell_type": "code",
   "execution_count": 15,
   "metadata": {},
   "outputs": [
    {
     "name": "stdout",
     "output_type": "stream",
     "text": [
      "VotingClassifier(estimators=[('lr', LogisticRegression(C=78, class_weight='balanced', dual=False,\n",
      "          fit_intercept=True, intercept_scaling=1, max_iter=100,\n",
      "          multi_class='warn', n_jobs=None, penalty='l2', random_state=1,\n",
      "          solver='warn', tol=0.0001, verbose=0, warm_start=False)), ('rf', Random...1,\n",
      "            verbose=0, warm_start=False)), ('gnb', GaussianNB(priors=None, var_smoothing=1e-09))],\n",
      "         flatten_transform=None, n_jobs=None, voting='soft', weights=None)\n",
      "0.8308785980175407\n",
      "{'rf__max_features': 5, 'rf__n_estimators': 184, 'lr__C': 78, 'rf__min_samples_split': 72, 'rf__max_depth': 88}\n"
     ]
    }
   ],
   "source": [
    "a_txt = str(a)\n",
    "print(a_txt)\n",
    "print(b)\n",
    "print(c)"
   ]
  },
  {
   "cell_type": "code",
   "execution_count": 16,
   "metadata": {},
   "outputs": [],
   "source": [
    "import pickle\n",
    "# write\n",
    "with open('./best_ml_vc.p', 'wb') as f:\n",
    "    pickle.dump(a, f)\n",
    "\n",
    "with open('./best_ml_text_vc.p', 'wb') as f:\n",
    "    pickle.dump(a_txt, f)    "
   ]
  },
  {
   "cell_type": "code",
   "execution_count": 10,
   "metadata": {},
   "outputs": [
    {
     "name": "stderr",
     "output_type": "stream",
     "text": [
      "/usr/local/lib/python2.7/dist-packages/sklearn/preprocessing/label.py:151: DeprecationWarning: The truth value of an empty array is ambiguous. Returning False, but in future this will result in an error. Use `array.size > 0` to check that an array is not empty.\n",
      "  if diff:\n"
     ]
    },
    {
     "name": "stdout",
     "output_type": "stream",
     "text": [
      "accuracy=0.91231\n",
      "f1=0.53149543196025\n",
      "precision=0.5756944444444444\n",
      "recall=0.4935992855016374\n"
     ]
    },
    {
     "name": "stderr",
     "output_type": "stream",
     "text": [
      "/usr/local/lib/python2.7/dist-packages/sklearn/preprocessing/label.py:151: DeprecationWarning: The truth value of an empty array is ambiguous. Returning False, but in future this will result in an error. Use `array.size > 0` to check that an array is not empty.\n",
      "  if diff:\n"
     ]
    },
    {
     "data": {
      "text/plain": [
       "array([[86257,  3666],\n",
       "       [ 5103,  4974]])"
      ]
     },
     "execution_count": 10,
     "metadata": {},
     "output_type": "execute_result"
    }
   ],
   "source": [
    "ML = a\n",
    "test_s2 = 0.5\n",
    "y_train, y_test, X_train, X_test = train_test_split(train_features1, train_labels1,\n",
    "                                                    test_size=test_s2,       \n",
    "                                                    random_state=0)\n",
    "\n",
    "ML.fit(X_train, y_train)\n",
    "ML.score(X_test,y_test)\n",
    "y_pred = ML.predict(X_test)\n",
    "print(\"accuracy=\"+str(accuracy_score(y_test, y_pred)))\n",
    "#print(average_precision_score(y_test,predict_y,average='weighted'))\n",
    "print(\"f1=\"+str(f1_score(y_test, y_pred)))\n",
    "print(\"precision=\"+str(precision_score(y_test, y_pred)))\n",
    "print(\"recall=\"+str(recall_score(y_test, y_pred)))\n",
    "#Vertucal:actual/ Horizontal:prediction\n",
    "confusion_matrix(y_test,y_pred)"
   ]
  },
  {
   "cell_type": "code",
   "execution_count": 17,
   "metadata": {},
   "outputs": [
    {
     "name": "stderr",
     "output_type": "stream",
     "text": [
      "/home/dev-cory/.local/share/virtualenvs/kaggle-A36EqEnQ/lib/python3.5/site-packages/sklearn/linear_model/logistic.py:433: FutureWarning: Default solver will be changed to 'lbfgs' in 0.22. Specify a solver to silence this warning.\n",
      "  FutureWarning)\n",
      "/home/dev-cory/.local/share/virtualenvs/kaggle-A36EqEnQ/lib/python3.5/site-packages/sklearn/svm/base.py:931: ConvergenceWarning: Liblinear failed to converge, increase the number of iterations.\n",
      "  \"the number of iterations.\", ConvergenceWarning)\n"
     ]
    },
    {
     "ename": "TypeError",
     "evalue": "cannot concatenate object of type \"<class 'numpy.ndarray'>\"; only pd.Series, pd.DataFrame, and pd.Panel (deprecated) objs are valid",
     "output_type": "error",
     "traceback": [
      "\u001b[0;31m---------------------------------------------------------------------------\u001b[0m",
      "\u001b[0;31mTypeError\u001b[0m                                 Traceback (most recent call last)",
      "\u001b[0;32m<ipython-input-17-70a46ad6ca2d>\u001b[0m in \u001b[0;36m<module>\u001b[0;34m\u001b[0m\n\u001b[1;32m     16\u001b[0m \u001b[0mdf_label_test\u001b[0m\u001b[0;34m=\u001b[0m\u001b[0mdf_test\u001b[0m\u001b[0;34m.\u001b[0m\u001b[0mdrop\u001b[0m\u001b[0;34m(\u001b[0m\u001b[0;34m'ID_code'\u001b[0m\u001b[0;34m,\u001b[0m\u001b[0maxis\u001b[0m\u001b[0;34m=\u001b[0m\u001b[0;36m1\u001b[0m\u001b[0;34m)\u001b[0m\u001b[0;34m\u001b[0m\u001b[0m\n\u001b[1;32m     17\u001b[0m \u001b[0my_pred\u001b[0m\u001b[0;34m=\u001b[0m\u001b[0mML2\u001b[0m\u001b[0;34m.\u001b[0m\u001b[0mpredict\u001b[0m\u001b[0;34m(\u001b[0m\u001b[0mdf_label_test\u001b[0m\u001b[0;34m)\u001b[0m\u001b[0;34m\u001b[0m\u001b[0m\n\u001b[0;32m---> 18\u001b[0;31m \u001b[0mdf_answer\u001b[0m\u001b[0;34m=\u001b[0m\u001b[0mpd\u001b[0m\u001b[0;34m.\u001b[0m\u001b[0mconcat\u001b[0m\u001b[0;34m(\u001b[0m\u001b[0;34m[\u001b[0m\u001b[0mdf_test\u001b[0m\u001b[0;34m[\u001b[0m\u001b[0;34m\"ID_code\"\u001b[0m\u001b[0;34m]\u001b[0m\u001b[0;34m,\u001b[0m\u001b[0my_pred\u001b[0m\u001b[0;34m]\u001b[0m\u001b[0;34m,\u001b[0m\u001b[0maxis\u001b[0m\u001b[0;34m=\u001b[0m\u001b[0;36m1\u001b[0m\u001b[0;34m)\u001b[0m\u001b[0;34m\u001b[0m\u001b[0m\n\u001b[0m\u001b[1;32m     19\u001b[0m \u001b[0mdf_answer\u001b[0m\u001b[0;34m.\u001b[0m\u001b[0mto_csv\u001b[0m\u001b[0;34m(\u001b[0m\u001b[0;34m'./santandar/submission.csv'\u001b[0m\u001b[0;34m,\u001b[0m\u001b[0mindex\u001b[0m\u001b[0;34m=\u001b[0m\u001b[0;32mFalse\u001b[0m\u001b[0;34m)\u001b[0m\u001b[0;34m\u001b[0m\u001b[0m\n",
      "\u001b[0;32m~/.local/share/virtualenvs/kaggle-A36EqEnQ/lib/python3.5/site-packages/pandas/core/reshape/concat.py\u001b[0m in \u001b[0;36mconcat\u001b[0;34m(objs, axis, join, join_axes, ignore_index, keys, levels, names, verify_integrity, sort, copy)\u001b[0m\n\u001b[1;32m    226\u001b[0m                        \u001b[0mkeys\u001b[0m\u001b[0;34m=\u001b[0m\u001b[0mkeys\u001b[0m\u001b[0;34m,\u001b[0m \u001b[0mlevels\u001b[0m\u001b[0;34m=\u001b[0m\u001b[0mlevels\u001b[0m\u001b[0;34m,\u001b[0m \u001b[0mnames\u001b[0m\u001b[0;34m=\u001b[0m\u001b[0mnames\u001b[0m\u001b[0;34m,\u001b[0m\u001b[0;34m\u001b[0m\u001b[0m\n\u001b[1;32m    227\u001b[0m                        \u001b[0mverify_integrity\u001b[0m\u001b[0;34m=\u001b[0m\u001b[0mverify_integrity\u001b[0m\u001b[0;34m,\u001b[0m\u001b[0;34m\u001b[0m\u001b[0m\n\u001b[0;32m--> 228\u001b[0;31m                        copy=copy, sort=sort)\n\u001b[0m\u001b[1;32m    229\u001b[0m     \u001b[0;32mreturn\u001b[0m \u001b[0mop\u001b[0m\u001b[0;34m.\u001b[0m\u001b[0mget_result\u001b[0m\u001b[0;34m(\u001b[0m\u001b[0;34m)\u001b[0m\u001b[0;34m\u001b[0m\u001b[0m\n\u001b[1;32m    230\u001b[0m \u001b[0;34m\u001b[0m\u001b[0m\n",
      "\u001b[0;32m~/.local/share/virtualenvs/kaggle-A36EqEnQ/lib/python3.5/site-packages/pandas/core/reshape/concat.py\u001b[0m in \u001b[0;36m__init__\u001b[0;34m(self, objs, axis, join, join_axes, keys, levels, names, ignore_index, verify_integrity, copy, sort)\u001b[0m\n\u001b[1;32m    287\u001b[0m                        \u001b[0;34m' only pd.Series, pd.DataFrame, and pd.Panel'\u001b[0m\u001b[0;34m\u001b[0m\u001b[0m\n\u001b[1;32m    288\u001b[0m                        ' (deprecated) objs are valid'.format(type(obj)))\n\u001b[0;32m--> 289\u001b[0;31m                 \u001b[0;32mraise\u001b[0m \u001b[0mTypeError\u001b[0m\u001b[0;34m(\u001b[0m\u001b[0mmsg\u001b[0m\u001b[0;34m)\u001b[0m\u001b[0;34m\u001b[0m\u001b[0m\n\u001b[0m\u001b[1;32m    290\u001b[0m \u001b[0;34m\u001b[0m\u001b[0m\n\u001b[1;32m    291\u001b[0m             \u001b[0;31m# consolidate\u001b[0m\u001b[0;34m\u001b[0m\u001b[0;34m\u001b[0m\u001b[0m\n",
      "\u001b[0;31mTypeError\u001b[0m: cannot concatenate object of type \"<class 'numpy.ndarray'>\"; only pd.Series, pd.DataFrame, and pd.Panel (deprecated) objs are valid"
     ]
    }
   ],
   "source": [
    "with open('./best_ml_vc.p', mode='rb') as f:\n",
    "    ML2=pickle.load(f)\n",
    "    \n",
    "\n",
    "\n",
    "\n",
    "'''ML2=VotingClassifier(estimators=[('lr', LogisticRegression(C=199, class_weight='balanced', dual=False,\n",
    "          fit_intercept=True, intercept_scaling=1, max_iter=100,\n",
    "          multi_class='ovr', n_jobs=1, penalty='l2', random_state=1,\n",
    "          solver='liblinear', tol=0.0001, verbose=0, warm_start=False)), ('rf', Rand...=False, random_state=1,\n",
    "            verbose=0, warm_start=False)), ('gnb', GaussianNB(priors=None))],\n",
    "         flatten_transform=None, n_jobs=1, voting='soft', weights=None)'''\n",
    "ML2.fit(train_labels1,train_features1)\n",
    "\n",
    "df_test=pd.read_csv('./santandar/test.csv')\n",
    "df_label_test=df_test.drop('ID_code',axis=1)\n",
    "y_pred=ML2.predict(df_label_test)"
   ]
  },
  {
   "cell_type": "code",
   "execution_count": 18,
   "metadata": {},
   "outputs": [],
   "source": [
    "y_pred2=pd.DataFrame(y_pred)\n",
    "df_answer=pd.concat([df_test[\"ID_code\"],y_pred2],axis=1)\n",
    "df_answer.to_csv('./santandar/submission.csv',index=False)"
   ]
  },
  {
   "cell_type": "code",
   "execution_count": null,
   "metadata": {},
   "outputs": [],
   "source": []
  }
 ],
 "metadata": {
  "kernelspec": {
   "display_name": "Python 3",
   "language": "python",
   "name": "python3"
  },
  "language_info": {
   "codemirror_mode": {
    "name": "ipython",
    "version": 3
   },
   "file_extension": ".py",
   "mimetype": "text/x-python",
   "name": "python",
   "nbconvert_exporter": "python",
   "pygments_lexer": "ipython3",
   "version": "3.5.3"
  }
 },
 "nbformat": 4,
 "nbformat_minor": 2
}
