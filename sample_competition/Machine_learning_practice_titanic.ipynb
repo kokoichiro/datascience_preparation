{
 "cells": [
  {
   "cell_type": "code",
   "execution_count": 40,
   "metadata": {},
   "outputs": [],
   "source": [
    "\n",
    "import pandas as pd\n",
    "import numpy as np\n",
    "from sklearn.tree import DecisionTreeClassifier\n",
    "from sklearn.linear_model import LogisticRegression\n",
    "from sklearn.neighbors import KNeighborsClassifier\n",
    "from sklearn import svm\n",
    "from sklearn.svm import SVC\n",
    "from itertools import product\n",
    "from sklearn.model_selection import train_test_split,GridSearchCV,RandomizedSearchCV,StratifiedKFold\n",
    "from sklearn.decomposition import PCA\n",
    "from sklearn.ensemble import (RandomForestClassifier,RandomForestRegressor,GradientBoostingClassifier,GradientBoostingRegressor,BaggingClassifier,VotingClassifier,AdaBoostClassifier)\n",
    "from sklearn.naive_bayes import GaussianNB\n",
    "from sklearn.svm import SVC\n",
    "from sklearn.neural_network import MLPClassifier\n",
    "from sklearn.externals.six import StringIO\n",
    "#from imblearn.over_sampling import ADASYN, SMOTE, RandomOverSampler\n",
    "#from imblearn.pipeline import make_pipeline\n",
    "from sklearn.preprocessing import MinMaxScaler,LabelEncoder,StandardScaler\n",
    "from sklearn.metrics import (brier_score_loss, precision_score, recall_score,roc_auc_score,\n",
    "                             f1_score,accuracy_score,confusion_matrix,mean_absolute_error,r2_score,mean_squared_error)\n",
    "import datetime\n",
    "\n",
    "from datetime import datetime\n",
    "\n",
    "import time\n",
    "import os\n",
    "import sys\n",
    "\n",
    "from scipy import misc\n",
    "from scipy.stats import randint\n"
   ]
  },
  {
   "cell_type": "code",
   "execution_count": 41,
   "metadata": {},
   "outputs": [],
   "source": [
    "now = datetime.today()\n",
    "today_str= now.strftime(\"%Y%m%d\")"
   ]
  },
  {
   "cell_type": "code",
   "execution_count": 2,
   "metadata": {},
   "outputs": [],
   "source": [
    "df=pd.read_csv('./data/train.csv')"
   ]
  },
  {
   "cell_type": "code",
   "execution_count": 7,
   "metadata": {},
   "outputs": [
    {
     "name": "stdout",
     "output_type": "stream",
     "text": [
      "----------------------------example----------------------------\n",
      "   PassengerId  Survived  Pclass  \\\n",
      "0            1         0       3   \n",
      "1            2         1       1   \n",
      "2            3         1       3   \n",
      "3            4         1       1   \n",
      "4            5         0       3   \n",
      "\n",
      "                                                Name     Sex   Age  SibSp  \\\n",
      "0                            Braund, Mr. Owen Harris    male  22.0      1   \n",
      "1  Cumings, Mrs. John Bradley (Florence Briggs Th...  female  38.0      1   \n",
      "2                             Heikkinen, Miss. Laina  female  26.0      0   \n",
      "3       Futrelle, Mrs. Jacques Heath (Lily May Peel)  female  35.0      1   \n",
      "4                           Allen, Mr. William Henry    male  35.0      0   \n",
      "\n",
      "   Parch            Ticket     Fare Cabin Embarked  \n",
      "0      0         A/5 21171   7.2500   NaN        S  \n",
      "1      0          PC 17599  71.2833   C85        C  \n",
      "2      0  STON/O2. 3101282   7.9250   NaN        S  \n",
      "3      0            113803  53.1000  C123        S  \n",
      "4      0            373450   8.0500   NaN        S  \n",
      "----------------------------columns----------------------------\n",
      "Index(['PassengerId', 'Survived', 'Pclass', 'Name', 'Sex', 'Age', 'SibSp',\n",
      "       'Parch', 'Ticket', 'Fare', 'Cabin', 'Embarked'],\n",
      "      dtype='object')\n",
      "----------------------------shape----------------------------\n",
      "(891, 12)\n"
     ]
    }
   ],
   "source": [
    "df.describe()\n",
    "print(\"----------------------------example----------------------------\")\n",
    "print(df.head())\n",
    "print(\"----------------------------columns----------------------------\")\n",
    "print(df.columns)\n",
    "print(\"----------------------------shape----------------------------\")\n",
    "print(df.shape)"
   ]
  },
  {
   "cell_type": "code",
   "execution_count": 55,
   "metadata": {},
   "outputs": [],
   "source": [
    "train=df.drop(['PassengerId','Name','Ticket','Cabin'],axis=1)\n",
    "\n",
    "def transform_data(df):\n",
    "    dummy_pclass=pd.get_dummies(df[\"Pclass\"])\n",
    "    dummy_Sex=pd.get_dummies(df[\"Sex\"])\n",
    "    dummy_Embarked=pd.get_dummies(df[\"Embarked\"])\n",
    "    dummy_SibSp=pd.get_dummies(df[\"SibSp\"])\n",
    "    dummy_Parch=pd.get_dummies(df[\"Parch\"])\n",
    "    train2=df.drop(['Pclass','Embarked','SibSp','Parch','Sex'],axis=1)\n",
    "    train2=pd.concat([train2,dummy_pclass],axis=1)\n",
    "    train2=pd.concat([train2,dummy_Embarked],axis=1)\n",
    "    train2=pd.concat([train2,dummy_Sex],axis=1)\n",
    "    train2=pd.concat([train2,dummy_SibSp],axis=1)\n",
    "    train2=pd.concat([train2,dummy_Parch],axis=1)\n",
    "    train2=train2.fillna(0)\n",
    "    return train2\n",
    "train2=transform_data(train)"
   ]
  },
  {
   "cell_type": "code",
   "execution_count": 56,
   "metadata": {},
   "outputs": [],
   "source": [
    "train_labels=train2[\"Survived\"]\n",
    "train_features=train2.drop('Survived',axis=1)"
   ]
  },
  {
   "cell_type": "code",
   "execution_count": 33,
   "metadata": {},
   "outputs": [],
   "source": [
    "def get_score(clf, train_features, train_labels):\n",
    "    X_train, X_test, y_train, y_test = train_test_split(train_features, train_labels, test_size=0.4, random_state=0)\n",
    "    clf.fit(X_train, y_train)\n",
    "    print(clf.score(X_test, y_test))\n",
    "\n",
    "def get_accuracy(clf, train_features, train_labels):\n",
    "    scores = cross_validation.cross_val_score(clf, train_features, train_labels, cv=10)\n",
    "    print(\"Accuracy: %0.2f (+/- %0.2f)\" % (scores.mean(), scores.std() * 2))\n",
    "\n",
    "def random_searchSVM(train_features, train_labels, n_jobs,objective):\n",
    "    param_dist = {\n",
    "#       {'C': [1, 10, 100], 'kernel': ['linear']},\n",
    "       #'C': [1,10,50,100], 'gamma': [0.0001, 0.001], 'kernel': ['rbf','linear']}\n",
    "        'C': [1], 'gamma': [0.001], 'kernel': ['rbf']}\n",
    "\n",
    "    clf = GridSearchCV(svm.SVC(class_weight=\"balanced\"), param_dist,n_jobs=n_jobs,scoring=objective)\n",
    "    clf.fit(train_features, train_labels)\n",
    "    return clf.best_estimator_,clf.best_score_,clf.best_params_\n",
    "\n",
    "def random_searchGB(train_features, train_labels, n_jobs,objective):\n",
    "    param_dist = {#'n_estimators': randint(5, 300),\n",
    "                   #'min_samples_leaf': randint(5, 30),\n",
    "                   #'max_depth': randint(5, 10),\n",
    "                   'learning_rate': [0.05,0.001]\n",
    "                  }\n",
    "\n",
    "    clf = RandomizedSearchCV(GradientBoostingClassifier(),param_dist,n_jobs=n_jobs,scoring=objective)\n",
    "    clf.fit(train_features, train_labels)\n",
    "    return clf.best_estimator_,clf.best_score_,clf.best_params_\n",
    "\n",
    "def random_searchRF(train_features, train_labels, n_jobs,objective):\n",
    "    param_dist = {\n",
    "        #'n_estimators'      : randint(5, 300),\n",
    "        #'max_features'      : randint(3, 20),\n",
    "        #'min_samples_split' : randint(3, 100),\n",
    "        'max_depth'         : randint(3, 100)}\n",
    "\n",
    "    clf = RandomizedSearchCV(RandomForestClassifier(class_weight=\"balanced\"), param_dist,n_jobs=n_jobs,scoring=objective)\n",
    "    clf.fit(train_features, train_labels)\n",
    "    return clf.best_estimator_,clf.best_score_,clf.best_params_\n",
    "\n",
    "def random_searchVC(train_features,train_labels,n_jobs,objective):\n",
    "    clf1 = LogisticRegression(random_state=1,class_weight=\"balanced\")\n",
    "    clf2 = RandomForestClassifier(random_state=1,class_weight=\"balanced\")\n",
    "    clf3 = GaussianNB()\n",
    "    eclf = VotingClassifier(estimators=[('lr', clf1), ('rf', clf2), ('gnb', clf3)], voting='soft')\n",
    "    params = {'lr__C': randint(1, 300), 'rf__n_estimators': randint(5, 300),'rf__max_features':randint(3, 20),'rf__min_samples_split' : randint(3, 100),'rf__max_depth':randint(3, 100)}\n",
    "    clf = RandomizedSearchCV(estimator=eclf,param_distributions=params,n_jobs=n_jobs,scoring=objective)\n",
    "    clf.fit(train_features, train_labels)\n",
    "    return clf.best_estimator_,clf.best_score_,clf.best_params_\n",
    "\n",
    "def random_searchAB(train_features,train_labels,n_jobs,objective):\n",
    "    param_dist = {\n",
    "        'algorithm'      : ['SAMME', 'SAMME.R'],\n",
    "        #'n_estimators'      : randint(5, 300)\n",
    "        }\n",
    "    bdt = AdaBoostClassifier(DecisionTreeClassifier(max_depth=1))\n",
    "    clf = RandomizedSearchCV(estimator=bdt,param_distributions=param_dist,n_jobs=n_jobs,scoring=objective)\n",
    "    clf.fit(train_features, train_labels)\n",
    "    return clf.best_estimator_,clf.best_score_,clf.best_params_ \n",
    "\n",
    "def random_searchNC(train_features,train_labels,n_jobs,objective):\n",
    "    param_dist = {\n",
    "        #'activation'      : ['identity', 'logistic', 'tanh', 'relu'],\n",
    "        #'hidden_layer_sizes' : [(5,2), (10,5),(10,20,5),(5,10,10,5)],\n",
    "        'alpha' : [1e-5,1e-4,1e-3],\n",
    "        'solver' : ['adam']}\n",
    "        #'solver' : ['lbfgs', 'sgd', 'adam']}\n",
    "      \n",
    "    clf = GridSearchCV(estimator= MLPClassifier(),param_grid=param_dist,n_jobs=n_jobs,scoring=objective)\n",
    "    clf.fit(train_features, train_labels)\n",
    "    return clf.best_estimator_,clf.best_score_,clf.best_params_  \n",
    "\n",
    "def best_estimater(train_features,train_labels,test_features,test_labels,objective):\n",
    "    start_time = time.time()\n",
    "    n_jobs = 30\n",
    "\n",
    "    #objective = 'f1' or 'accuracy' or 'recall' or 'roc_auc'\n",
    "    a_RF,b_RF,c_RF=random_searchRF(train_features, train_labels,n_jobs,objective)\n",
    "  \n",
    "    print(\"---RF finished %s seconds ---\" % round(time.time() - start_time,2))\n",
    "    duration_time = time.time()\n",
    "  \n",
    "    a_GB,b_GB,c_GB=random_searchGB(train_features, train_labels,n_jobs,objective)\n",
    "  \n",
    "    print(\"---GB finished %s seconds ---\" % round(time.time() - duration_time,2))\n",
    "    duration_time = time.time()\n",
    "  \n",
    "    a_SVM,b_SVM,c_SVM=random_searchSVM(train_features, train_labels,n_jobs,objective)\n",
    "  \n",
    "    print(\"---SVM finished %s seconds ---\" % round(time.time() - duration_time,2))\n",
    "    duration_time = time.time()\n",
    "  \n",
    "    a_VC,b_VC,c_VC=random_searchVC(train_features, train_labels,n_jobs,objective)\n",
    "  \n",
    "    print(\"---VotingClassification finished %s seconds ---\" % round(time.time() - start_time,2))\n",
    "    duration_time = time.time()\n",
    "  \n",
    "    a_AB,b_AB,c_AB=random_searchAB(train_features, train_labels,n_jobs,objective)\n",
    "  \n",
    "    print(\"---AdaBoost finished %s seconds ---\" % round(time.time() - duration_time,2))\n",
    "    duration_time = time.time()\n",
    "  \n",
    "    a_NC,b_NC,c_NC=random_searchNC(train_features, train_labels,n_jobs,objective)\n",
    "  \n",
    "    print(\"---NeuralNetwork finished %s seconds ---\" % round(time.time() - duration_time,2))\n",
    "    duration_time = time.time()\n",
    "  \n",
    "  \n",
    "  \n",
    "    RF_ML = a_RF\n",
    "    RF_ML.fit(train_features,train_labels)\n",
    "    RF_ML.score(test_features,test_labels)\n",
    "    RF_y_pred = RF_ML.predict(test_features)\n",
    "  \n",
    "  \n",
    "    print(\"---RF fitting finished %s seconds ---\" % round(time.time() - duration_time,2))\n",
    "    duration_time = time.time()\n",
    "  \n",
    "    GB_ML = a_GB\n",
    "    GB_ML.fit(train_features,train_labels)\n",
    "    GB_ML.score(test_features,test_labels)\n",
    "    GB_y_pred = GB_ML.predict(test_features)\n",
    "  \n",
    "  \n",
    "    print(\"---GB fitting finished %s seconds ---\" % round(time.time() - duration_time,2))\n",
    "    duration_time = time.time()\n",
    "  \n",
    "    SVM_ML = a_SVM\n",
    "    SVM_ML.fit(train_features,train_labels)\n",
    "    SVM_ML.score(test_features,test_labels)\n",
    "    SVM_y_pred = SVM_ML.predict(test_features)\n",
    "  \n",
    "  \n",
    "    print(\"---SVM fitting finished %s seconds ---\" % round(time.time() - duration_time,2))\n",
    "    duration_time = time.time()\n",
    "  \n",
    "  \n",
    "    VC_ML = a_VC\n",
    "    VC_ML.fit(train_features,train_labels)\n",
    "    VC_ML.score(test_features,test_labels)\n",
    "    VC_y_pred = VC_ML.predict(test_features)\n",
    "  \n",
    "  \n",
    "    print(\"---VotingClassification fitting finished %s seconds ---\" % round(time.time() - duration_time,2))\n",
    "    duration_time = time.time()\n",
    "  \n",
    "    AB_ML = a_AB\n",
    "    AB_ML.fit(train_features,train_labels)\n",
    "    AB_ML.score(test_features,test_labels)\n",
    "    AB_y_pred = AB_ML.predict(test_features)\n",
    "  \n",
    "  \n",
    "    print(\"---AdaBoosting fitting finished %s seconds ---\" % round(time.time() - duration_time,2))\n",
    "    duration_time = time.time()\n",
    "  \n",
    "    NC_ML = a_NC\n",
    "    NC_ML.fit(train_features,train_labels)\n",
    "    NC_ML.score(test_features,test_labels)\n",
    "    NC_y_pred = NC_ML.predict(test_features)\n",
    "  \n",
    "  \n",
    "    print(\"---Neural Network fitting finished %s seconds ---\" % round(time.time() - duration_time,2))\n",
    "    duration_time = time.time()\n",
    "  \n",
    "    if objective == \"f1\":\n",
    "        RF_score=f1_score(test_labels, RF_y_pred)\n",
    "        GB_score=f1_score(test_labels, GB_y_pred)\n",
    "        SVM_score=f1_score(test_labels, SVM_y_pred)\n",
    "        VC_score=f1_score(test_labels, VC_y_pred)\n",
    "        NC_score=f1_score(test_labels, NC_y_pred)\n",
    "        AB_score=f1_score(test_labels, AB_y_pred)\n",
    "    elif objective == \"recall\":\n",
    "        RF_score=recall_score(test_labels, RF_y_pred)\n",
    "        GB_score=recall_score(test_labels, GB_y_pred)\n",
    "        SVM_score=recall_score(test_labels, SVM_y_pred)\n",
    "        VC_score=recall_score(test_labels, VC_y_pred)\n",
    "        NC_score=recall_score(test_labels, NC_y_pred)\n",
    "        AB_score=recall_score(test_labels, AB_y_pred)\n",
    "    elif objective == \"accuracy\":\n",
    "        RF_score=accuracy_score(test_labels, RF_y_pred)\n",
    "        GB_score=accuracy_score(test_labels, GB_y_pred)\n",
    "        SVM_score=accuracy_score(test_labels, SVM_y_pred)\n",
    "        VC_score=accuracy_score(test_labels, VC_y_pred)\n",
    "        NC_score=accuracy_score(test_labels, NC_y_pred)\n",
    "        AB_score=accuracy_score(test_labels, AB_y_pred)\n",
    "    elif objective == \"roc_auc\":\n",
    "        RF_score=roc_auc_score(test_labels, RF_y_pred)\n",
    "        GB_score=roc_auc_score(test_labels, GB_y_pred)\n",
    "        SVM_score=roc_auc_score(test_labels, SVM_y_pred)\n",
    "        VC_score=roc_auc_score(test_labels, VC_y_pred)\n",
    "        NC_score=roc_auc_score(test_labels, NC_y_pred)\n",
    "        AB_score=roc_auc_score(test_labels, AB_y_pred)\n",
    "    print ('RF:'+str(RF_score)+', GB:'+str(GB_score)+', SVM:'+str(SVM_score)+', VC:'+str(VC_score)+', AB:'+str(AB_score)+', NC:'+str(NC_score))\n",
    "    score_list = [RF_score,GB_score,SVM_score,VC_score,NC_score,AB_score]\n",
    "    if RF_score ==max(score_list):\n",
    "        return a_RF,b_RF,c_RF\n",
    "    elif GB_score ==max(score_list):\n",
    "        return a_GB,b_GB,c_GB\n",
    "    elif SVM_score ==max(score_list):\n",
    "        return a_SVM,b_SVM,c_SVM\n",
    "    elif VC_score ==max(score_list):\n",
    "        return a_VC,b_VC,c_VC\n",
    "    elif NC_score ==max(score_list):\n",
    "        return a_NC,b_NC,c_NC\n",
    "    elif AB_score ==max(score_list):\n",
    "        return a_AB,b_AB,c_AB\n",
    "    else:\n",
    "        print('The error happens')\n",
    "\n",
    "\n",
    "        "
   ]
  },
  {
   "cell_type": "code",
   "execution_count": 34,
   "metadata": {},
   "outputs": [],
   "source": [
    "y_train, y_test, X_train, X_test = train_test_split( train_labels,train_features,\n",
    "                                                    test_size=0.5, \n",
    "                                                    random_state=0)"
   ]
  },
  {
   "cell_type": "code",
   "execution_count": 35,
   "metadata": {},
   "outputs": [
    {
     "name": "stderr",
     "output_type": "stream",
     "text": [
      "/home/dev-cory/.local/share/virtualenvs/kaggle-A36EqEnQ/lib/python3.5/site-packages/sklearn/model_selection/_split.py:2053: FutureWarning: You should specify a value for 'cv' instead of relying on the default value. The default value will change from 3 to 5 in version 0.22.\n",
      "  warnings.warn(CV_WARNING, FutureWarning)\n",
      "/home/dev-cory/.local/share/virtualenvs/kaggle-A36EqEnQ/lib/python3.5/site-packages/sklearn/model_selection/_search.py:841: DeprecationWarning: The default of the `iid` parameter will change from True to False in version 0.22 and will be removed in 0.24. This will change numeric results when test-set sizes are unequal.\n",
      "  DeprecationWarning)\n",
      "/home/dev-cory/.local/share/virtualenvs/kaggle-A36EqEnQ/lib/python3.5/site-packages/sklearn/ensemble/forest.py:246: FutureWarning: The default value of n_estimators will change from 10 in version 0.20 to 100 in 0.22.\n",
      "  \"10 in version 0.20 to 100 in 0.22.\", FutureWarning)\n",
      "/home/dev-cory/.local/share/virtualenvs/kaggle-A36EqEnQ/lib/python3.5/site-packages/sklearn/model_selection/_split.py:2053: FutureWarning: You should specify a value for 'cv' instead of relying on the default value. The default value will change from 3 to 5 in version 0.22.\n",
      "  warnings.warn(CV_WARNING, FutureWarning)\n",
      "/home/dev-cory/.local/share/virtualenvs/kaggle-A36EqEnQ/lib/python3.5/site-packages/sklearn/model_selection/_search.py:271: UserWarning: The total space of parameters 2 is smaller than n_iter=10. Running 2 iterations. For exhaustive searches, use GridSearchCV.\n",
      "  % (grid_size, self.n_iter, grid_size), UserWarning)\n"
     ]
    },
    {
     "name": "stdout",
     "output_type": "stream",
     "text": [
      "---RF finished 15.3 seconds ---\n",
      "---GB finished 0.51 seconds ---\n",
      "---SVM finished 0.14 seconds ---\n"
     ]
    },
    {
     "name": "stderr",
     "output_type": "stream",
     "text": [
      "/home/dev-cory/.local/share/virtualenvs/kaggle-A36EqEnQ/lib/python3.5/site-packages/sklearn/model_selection/_split.py:2053: FutureWarning: You should specify a value for 'cv' instead of relying on the default value. The default value will change from 3 to 5 in version 0.22.\n",
      "  warnings.warn(CV_WARNING, FutureWarning)\n",
      "/home/dev-cory/.local/share/virtualenvs/kaggle-A36EqEnQ/lib/python3.5/site-packages/sklearn/model_selection/_split.py:2053: FutureWarning: You should specify a value for 'cv' instead of relying on the default value. The default value will change from 3 to 5 in version 0.22.\n",
      "  warnings.warn(CV_WARNING, FutureWarning)\n",
      "/home/dev-cory/.local/share/virtualenvs/kaggle-A36EqEnQ/lib/python3.5/site-packages/sklearn/linear_model/logistic.py:433: FutureWarning: Default solver will be changed to 'lbfgs' in 0.22. Specify a solver to silence this warning.\n",
      "  FutureWarning)\n",
      "/home/dev-cory/.local/share/virtualenvs/kaggle-A36EqEnQ/lib/python3.5/site-packages/sklearn/model_selection/_split.py:2053: FutureWarning: You should specify a value for 'cv' instead of relying on the default value. The default value will change from 3 to 5 in version 0.22.\n",
      "  warnings.warn(CV_WARNING, FutureWarning)\n",
      "/home/dev-cory/.local/share/virtualenvs/kaggle-A36EqEnQ/lib/python3.5/site-packages/sklearn/model_selection/_search.py:271: UserWarning: The total space of parameters 2 is smaller than n_iter=10. Running 2 iterations. For exhaustive searches, use GridSearchCV.\n",
      "  % (grid_size, self.n_iter, grid_size), UserWarning)\n"
     ]
    },
    {
     "name": "stdout",
     "output_type": "stream",
     "text": [
      "---VotingClassification finished 19.72 seconds ---\n",
      "---AdaBoost finished 0.32 seconds ---\n"
     ]
    },
    {
     "name": "stderr",
     "output_type": "stream",
     "text": [
      "/home/dev-cory/.local/share/virtualenvs/kaggle-A36EqEnQ/lib/python3.5/site-packages/sklearn/model_selection/_split.py:2053: FutureWarning: You should specify a value for 'cv' instead of relying on the default value. The default value will change from 3 to 5 in version 0.22.\n",
      "  warnings.warn(CV_WARNING, FutureWarning)\n",
      "/home/dev-cory/.local/share/virtualenvs/kaggle-A36EqEnQ/lib/python3.5/site-packages/sklearn/model_selection/_search.py:841: DeprecationWarning: The default of the `iid` parameter will change from True to False in version 0.22 and will be removed in 0.24. This will change numeric results when test-set sizes are unequal.\n",
      "  DeprecationWarning)\n",
      "/home/dev-cory/.local/share/virtualenvs/kaggle-A36EqEnQ/lib/python3.5/site-packages/sklearn/neural_network/multilayer_perceptron.py:562: ConvergenceWarning: Stochastic Optimizer: Maximum iterations (200) reached and the optimization hasn't converged yet.\n",
      "  % self.max_iter, ConvergenceWarning)\n",
      "/home/dev-cory/.local/share/virtualenvs/kaggle-A36EqEnQ/lib/python3.5/site-packages/sklearn/linear_model/logistic.py:433: FutureWarning: Default solver will be changed to 'lbfgs' in 0.22. Specify a solver to silence this warning.\n",
      "  FutureWarning)\n"
     ]
    },
    {
     "name": "stdout",
     "output_type": "stream",
     "text": [
      "---NeuralNetwork finished 8.94 seconds ---\n",
      "---RF fitting finished 0.03 seconds ---\n",
      "---GB fitting finished 0.1 seconds ---\n",
      "---SVM fitting finished 0.04 seconds ---\n",
      "---VotingClassification fitting finished 0.13 seconds ---\n",
      "---AdaBoosting fitting finished 0.09 seconds ---\n",
      "---Neural Network fitting finished 0.64 seconds ---\n",
      "RF:0.7668161434977578, GB:0.8183856502242153, SVM:0.6704035874439462, VC:0.7017937219730942, AB:0.7690582959641256, NC:0.7645739910313901\n"
     ]
    },
    {
     "name": "stderr",
     "output_type": "stream",
     "text": [
      "/home/dev-cory/.local/share/virtualenvs/kaggle-A36EqEnQ/lib/python3.5/site-packages/sklearn/neural_network/multilayer_perceptron.py:562: ConvergenceWarning: Stochastic Optimizer: Maximum iterations (200) reached and the optimization hasn't converged yet.\n",
      "  % self.max_iter, ConvergenceWarning)\n"
     ]
    }
   ],
   "source": [
    "a,b,c=best_estimater(X_train, y_train,X_test,y_test,'accuracy')"
   ]
  },
  {
   "cell_type": "code",
   "execution_count": 36,
   "metadata": {},
   "outputs": [
    {
     "name": "stdout",
     "output_type": "stream",
     "text": [
      "GradientBoostingClassifier(criterion='friedman_mse', init=None,\n",
      "              learning_rate=0.05, loss='deviance', max_depth=3,\n",
      "              max_features=None, max_leaf_nodes=None,\n",
      "              min_impurity_decrease=0.0, min_impurity_split=None,\n",
      "              min_samples_leaf=1, min_samples_split=2,\n",
      "              min_weight_fraction_leaf=0.0, n_estimators=100,\n",
      "              n_iter_no_change=None, presort='auto', random_state=None,\n",
      "              subsample=1.0, tol=0.0001, validation_fraction=0.1,\n",
      "              verbose=0, warm_start=False)\n",
      "0.7887640449438202\n",
      "{'learning_rate': 0.05}\n"
     ]
    }
   ],
   "source": [
    "a_txt = str(a)\n",
    "print(a_txt)\n",
    "print(b)\n",
    "print(c)"
   ]
  },
  {
   "cell_type": "code",
   "execution_count": 42,
   "metadata": {},
   "outputs": [],
   "source": [
    "import pickle\n",
    "# write\n",
    "with open('model/best_ml'+today_str+'.p', 'wb') as f:\n",
    "    pickle.dump(a, f)\n",
    "\n",
    "with open('model/best_ml_text'+today_str+'.p', 'wb') as f:\n",
    "    pickle.dump(a_txt, f)    "
   ]
  },
  {
   "cell_type": "code",
   "execution_count": 43,
   "metadata": {},
   "outputs": [
    {
     "name": "stdout",
     "output_type": "stream",
     "text": [
      "accuracy=0.773542600896861\n",
      "f1=0.6793650793650793\n",
      "precision=0.8106060606060606\n",
      "recall=0.5846994535519126\n"
     ]
    },
    {
     "data": {
      "text/plain": [
       "array([[238,  25],\n",
       "       [ 76, 107]])"
      ]
     },
     "execution_count": 43,
     "metadata": {},
     "output_type": "execute_result"
    }
   ],
   "source": [
    "ML = a\n",
    "test_s2 = 0.5\n",
    "y_train, y_test, X_train, X_test = train_test_split(train_labels,train_features,\n",
    "                                                    test_size=test_s2,       \n",
    "                                                    random_state=1)\n",
    "\n",
    "ML.fit(X_train, y_train)\n",
    "ML.score(X_test,y_test)\n",
    "y_pred = ML.predict(X_test)\n",
    "print(\"accuracy=\"+str(accuracy_score(y_test, y_pred)))\n",
    "#print(average_precision_score(y_test,predict_y,average='weighted'))\n",
    "print(\"f1=\"+str(f1_score(y_test, y_pred)))\n",
    "print(\"precision=\"+str(precision_score(y_test, y_pred)))\n",
    "print(\"recall=\"+str(recall_score(y_test, y_pred)))\n",
    "#Vertucal:actual/ Horizontal:prediction\n",
    "confusion_matrix(y_test,y_pred)"
   ]
  },
  {
   "cell_type": "code",
   "execution_count": 60,
   "metadata": {},
   "outputs": [
    {
     "name": "stdout",
     "output_type": "stream",
     "text": [
      "Index([   'Age',   'Fare',        1,        2,        3,      'C',      'Q',\n",
      "            'S', 'female',   'male',        0,        1,        2,        3,\n",
      "              4,        5,        8,        0,        1,        2,        3,\n",
      "              4,        5,        6],\n",
      "      dtype='object')\n",
      "Index(['Survived',      'Age',     'Fare',          1,          2,          3,\n",
      "              'C',        'Q',        'S',   'female',     'male',          0,\n",
      "                1,          2,          3,          4,          5,          8,\n",
      "                0,          1,          2,          3,          4,          5,\n",
      "                6],\n",
      "      dtype='object')\n"
     ]
    }
   ],
   "source": [
    "with open('model/best_ml'+today_str+'.p', mode='rb') as f:\n",
    "    ML2=pickle.load(f)\n",
    "    \n",
    "\n",
    "\n",
    "\n",
    "'''ML2=VotingClassifier(estimators=[('lr', LogisticRegression(C=199, class_weight='balanced', dual=False,\n",
    "          fit_intercept=True, intercept_scaling=1, max_iter=100,\n",
    "          multi_class='ovr', n_jobs=1, penalty='l2', random_state=1,\n",
    "          solver='liblinear', tol=0.0001, verbose=0, warm_start=False)), ('rf', Rand...=False, random_state=1,\n",
    "            verbose=0, warm_start=False)), ('gnb', GaussianNB(priors=None))],\n",
    "         flatten_transform=None, n_jobs=1, voting='soft', weights=None)'''\n",
    "ML2.fit(train_features,train_labels)\n",
    "\n",
    "df_test=pd.read_csv('./data/test.csv')\n",
    "df_label_test=transform_data(df_test)\n",
    "df_label_test=df_label_test.drop(['PassengerId','Name','Ticket','Cabin',9],axis=1)\n",
    "\n",
    "print(df_label_test.columns)\n",
    "print(train2.columns)\n",
    "y_pred=ML2.predict(df_label_test)"
   ]
  },
  {
   "cell_type": "code",
   "execution_count": 18,
   "metadata": {},
   "outputs": [],
   "source": [
    "y_pred2=pd.DataFrame(y_pred)\n",
    "df_answer=pd.concat([df_test[\"ID_code\"],y_pred2],axis=1)\n",
    "df_answer.to_csv('./santandar/submission.csv',index=False)"
   ]
  },
  {
   "cell_type": "code",
   "execution_count": null,
   "metadata": {},
   "outputs": [],
   "source": []
  }
 ],
 "metadata": {
  "kernelspec": {
   "display_name": "Python 3",
   "language": "python",
   "name": "python3"
  },
  "language_info": {
   "codemirror_mode": {
    "name": "ipython",
    "version": 3
   },
   "file_extension": ".py",
   "mimetype": "text/x-python",
   "name": "python",
   "nbconvert_exporter": "python",
   "pygments_lexer": "ipython3",
   "version": "3.5.3"
  }
 },
 "nbformat": 4,
 "nbformat_minor": 2
}
